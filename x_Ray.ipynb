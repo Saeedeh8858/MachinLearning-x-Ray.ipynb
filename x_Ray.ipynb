{
  "nbformat": 4,
  "nbformat_minor": 0,
  "metadata": {
    "colab": {
      "provenance": [],
      "mount_file_id": "1pew2-bhFfQeiGecs8kTi_N1zi_hl5CMo",
      "authorship_tag": "ABX9TyOMRb6BCyteTDL3ny+rbuVQ",
      "include_colab_link": true
    },
    "kernelspec": {
      "name": "python3",
      "display_name": "Python 3"
    },
    "language_info": {
      "name": "python"
    }
  },
  "cells": [
    {
      "cell_type": "markdown",
      "metadata": {
        "id": "view-in-github",
        "colab_type": "text"
      },
      "source": [
        "<a href=\"https://colab.research.google.com/github/Saeedeh8858/MachinLearning-x-Ray.ipynb/blob/main/x_Ray.ipynb\" target=\"_parent\"><img src=\"https://colab.research.google.com/assets/colab-badge.svg\" alt=\"Open In Colab\"/></a>"
      ]
    },
    {
      "cell_type": "code",
      "execution_count": null,
      "metadata": {
        "id": "nK7K60zl3Dmq"
      },
      "outputs": [],
      "source": []
    },
    {
      "cell_type": "markdown",
      "source": [
        "# Mount drive via code"
      ],
      "metadata": {
        "id": "2MOg9cS23INk"
      }
    },
    {
      "cell_type": "code",
      "source": [
        "from google.colab import drive\n",
        "drive.mount('/content/drive')"
      ],
      "metadata": {
        "colab": {
          "base_uri": "https://localhost:8080/"
        },
        "id": "X7hA9PV43LLk",
        "outputId": "8f315131-6442-4c5d-ceeb-bd886c92fbb4"
      },
      "execution_count": null,
      "outputs": [
        {
          "output_type": "stream",
          "name": "stdout",
          "text": [
            "Drive already mounted at /content/drive; to attempt to forcibly remount, call drive.mount(\"/content/drive\", force_remount=True).\n"
          ]
        }
      ]
    },
    {
      "cell_type": "code",
      "source": [
        "%pwd  #checking our present working directory\n",
        "%ls  #listing the files in the current directory"
      ],
      "metadata": {
        "colab": {
          "base_uri": "https://localhost:8080/"
        },
        "id": "BQTZMRrj3bae",
        "outputId": "a40f910c-c4dd-400c-b967-aa411d88f3f9"
      },
      "execution_count": null,
      "outputs": [
        {
          "output_type": "stream",
          "name": "stdout",
          "text": [
            "\u001b[0m\u001b[01;34mdrive\u001b[0m/  \u001b[01;34msample_data\u001b[0m/\n"
          ]
        }
      ]
    },
    {
      "cell_type": "markdown",
      "source": [
        "# Read File"
      ],
      "metadata": {
        "id": "WSdOyTF53e2G"
      }
    },
    {
      "cell_type": "code",
      "source": [
        "%cd '/content/drive/MyDrive/Colab Notebooks'\n",
        "%ls"
      ],
      "metadata": {
        "colab": {
          "base_uri": "https://localhost:8080/"
        },
        "id": "CraYsCN23gGE",
        "outputId": "2ad5f70a-7568-4386-e9a1-8dee7007cf58"
      },
      "execution_count": null,
      "outputs": [
        {
          "output_type": "stream",
          "name": "stdout",
          "text": [
            "/content/drive/MyDrive/Colab Notebooks\n",
            " MetaData.csv   MetaData_miss.csv  'x Ray.ipynb'\n"
          ]
        }
      ]
    },
    {
      "cell_type": "markdown",
      "source": [
        "# Import Libraries"
      ],
      "metadata": {
        "id": "3i2v7-1w4TeV"
      }
    },
    {
      "cell_type": "code",
      "source": [
        "from pandas import read_csv\n",
        "from pandas.plotting import scatter_matrix\n",
        "from matplotlib import pyplot as plt\n",
        "from sklearn.model_selection import train_test_split\n",
        "from sklearn.model_selection import cross_val_score\n",
        "from sklearn.model_selection import StratifiedKFold\n",
        "from sklearn.metrics import classification_report\n",
        "from sklearn.metrics import confusion_matrix\n",
        "from sklearn.metrics import accuracy_score\n",
        "from sklearn.linear_model import LogisticRegression\n",
        "from sklearn.tree import DecisionTreeClassifier\n",
        "from sklearn.neighbors import KNeighborsClassifier\n",
        "from sklearn.discriminant_analysis import LinearDiscriminantAnalysis\n",
        "from sklearn.naive_bayes import GaussianNB\n",
        "from sklearn.svm import SVC\n",
        "import pandas as pd\n",
        "from sklearn.preprocessing import OneHotEncoder\n",
        "from sklearn.compose import ColumnTransformer\n",
        "\n"
      ],
      "metadata": {
        "id": "Gp2jVBdp4Upu"
      },
      "execution_count": null,
      "outputs": []
    },
    {
      "cell_type": "markdown",
      "source": [
        "# Load Data"
      ],
      "metadata": {
        "id": "BL1f5rR_4bxW"
      }
    },
    {
      "cell_type": "code",
      "source": [
        "#reading file from drive\n",
        "names = ['gender  ', 'age', 'county', 'Result']\n",
        "data=read_csv('MetaData.csv',names=names)\n",
        "data"
      ],
      "metadata": {
        "colab": {
          "base_uri": "https://localhost:8080/",
          "height": 423
        },
        "id": "wQaFdmtW47oM",
        "outputId": "ae2ca5d7-6ba6-4c94-ddc0-c6e8bcc31d4b"
      },
      "execution_count": null,
      "outputs": [
        {
          "output_type": "execute_result",
          "data": {
            "text/plain": [
              "            gender           age county  \\\n",
              "id   gender      age      county    ptb   \n",
              "1000 male         31    Shenxhen      0   \n",
              "1001 male         64    Shenxhen      0   \n",
              "1002 male         35    Shenxhen      0   \n",
              "1003 male         32    Shenxhen      1   \n",
              "...              ...         ...    ...   \n",
              "1699 M           047  Montgomery      1   \n",
              "1700 F           030  Montgomery      0   \n",
              "1701 F           044  Montgomery      0   \n",
              "1702 F           030  Montgomery      1   \n",
              "1703 F           045  Montgomery      0   \n",
              "\n",
              "                                                        Result  \n",
              "id   gender                                            remarks  \n",
              "1000 male                                               normal  \n",
              "1001 male                                               normal  \n",
              "1002 male                                               normal  \n",
              "1003 male                       STB,ATB,tuberculosis pleuritis  \n",
              "...                                                        ...  \n",
              "1699 M       persistent rt pleural peel with some interval ...  \n",
              "1700 F                                                  normal  \n",
              "1701 F                                                  normal  \n",
              "1702 F       left pleural effusion; best seen on lateral vi...  \n",
              "1703 F                                                  normal  \n",
              "\n",
              "[705 rows x 4 columns]"
            ],
            "text/html": [
              "\n",
              "  <div id=\"df-9ed78bfd-6a7a-4163-bcfb-60267090da71\" class=\"colab-df-container\">\n",
              "    <div>\n",
              "<style scoped>\n",
              "    .dataframe tbody tr th:only-of-type {\n",
              "        vertical-align: middle;\n",
              "    }\n",
              "\n",
              "    .dataframe tbody tr th {\n",
              "        vertical-align: top;\n",
              "    }\n",
              "\n",
              "    .dataframe thead th {\n",
              "        text-align: right;\n",
              "    }\n",
              "</style>\n",
              "<table border=\"1\" class=\"dataframe\">\n",
              "  <thead>\n",
              "    <tr style=\"text-align: right;\">\n",
              "      <th></th>\n",
              "      <th></th>\n",
              "      <th>gender</th>\n",
              "      <th>age</th>\n",
              "      <th>county</th>\n",
              "      <th>Result</th>\n",
              "    </tr>\n",
              "  </thead>\n",
              "  <tbody>\n",
              "    <tr>\n",
              "      <th>id</th>\n",
              "      <th>gender</th>\n",
              "      <td>age</td>\n",
              "      <td>county</td>\n",
              "      <td>ptb</td>\n",
              "      <td>remarks</td>\n",
              "    </tr>\n",
              "    <tr>\n",
              "      <th>1000</th>\n",
              "      <th>male</th>\n",
              "      <td>31</td>\n",
              "      <td>Shenxhen</td>\n",
              "      <td>0</td>\n",
              "      <td>normal</td>\n",
              "    </tr>\n",
              "    <tr>\n",
              "      <th>1001</th>\n",
              "      <th>male</th>\n",
              "      <td>64</td>\n",
              "      <td>Shenxhen</td>\n",
              "      <td>0</td>\n",
              "      <td>normal</td>\n",
              "    </tr>\n",
              "    <tr>\n",
              "      <th>1002</th>\n",
              "      <th>male</th>\n",
              "      <td>35</td>\n",
              "      <td>Shenxhen</td>\n",
              "      <td>0</td>\n",
              "      <td>normal</td>\n",
              "    </tr>\n",
              "    <tr>\n",
              "      <th>1003</th>\n",
              "      <th>male</th>\n",
              "      <td>32</td>\n",
              "      <td>Shenxhen</td>\n",
              "      <td>1</td>\n",
              "      <td>STB,ATB,tuberculosis pleuritis</td>\n",
              "    </tr>\n",
              "    <tr>\n",
              "      <th>...</th>\n",
              "      <th>...</th>\n",
              "      <td>...</td>\n",
              "      <td>...</td>\n",
              "      <td>...</td>\n",
              "      <td>...</td>\n",
              "    </tr>\n",
              "    <tr>\n",
              "      <th>1699</th>\n",
              "      <th>M</th>\n",
              "      <td>047</td>\n",
              "      <td>Montgomery</td>\n",
              "      <td>1</td>\n",
              "      <td>persistent rt pleural peel with some interval ...</td>\n",
              "    </tr>\n",
              "    <tr>\n",
              "      <th>1700</th>\n",
              "      <th>F</th>\n",
              "      <td>030</td>\n",
              "      <td>Montgomery</td>\n",
              "      <td>0</td>\n",
              "      <td>normal</td>\n",
              "    </tr>\n",
              "    <tr>\n",
              "      <th>1701</th>\n",
              "      <th>F</th>\n",
              "      <td>044</td>\n",
              "      <td>Montgomery</td>\n",
              "      <td>0</td>\n",
              "      <td>normal</td>\n",
              "    </tr>\n",
              "    <tr>\n",
              "      <th>1702</th>\n",
              "      <th>F</th>\n",
              "      <td>030</td>\n",
              "      <td>Montgomery</td>\n",
              "      <td>1</td>\n",
              "      <td>left pleural effusion; best seen on lateral vi...</td>\n",
              "    </tr>\n",
              "    <tr>\n",
              "      <th>1703</th>\n",
              "      <th>F</th>\n",
              "      <td>045</td>\n",
              "      <td>Montgomery</td>\n",
              "      <td>0</td>\n",
              "      <td>normal</td>\n",
              "    </tr>\n",
              "  </tbody>\n",
              "</table>\n",
              "<p>705 rows × 4 columns</p>\n",
              "</div>\n",
              "    <div class=\"colab-df-buttons\">\n",
              "\n",
              "  <div class=\"colab-df-container\">\n",
              "    <button class=\"colab-df-convert\" onclick=\"convertToInteractive('df-9ed78bfd-6a7a-4163-bcfb-60267090da71')\"\n",
              "            title=\"Convert this dataframe to an interactive table.\"\n",
              "            style=\"display:none;\">\n",
              "\n",
              "  <svg xmlns=\"http://www.w3.org/2000/svg\" height=\"24px\" viewBox=\"0 -960 960 960\">\n",
              "    <path d=\"M120-120v-720h720v720H120Zm60-500h600v-160H180v160Zm220 220h160v-160H400v160Zm0 220h160v-160H400v160ZM180-400h160v-160H180v160Zm440 0h160v-160H620v160ZM180-180h160v-160H180v160Zm440 0h160v-160H620v160Z\"/>\n",
              "  </svg>\n",
              "    </button>\n",
              "\n",
              "  <style>\n",
              "    .colab-df-container {\n",
              "      display:flex;\n",
              "      gap: 12px;\n",
              "    }\n",
              "\n",
              "    .colab-df-convert {\n",
              "      background-color: #E8F0FE;\n",
              "      border: none;\n",
              "      border-radius: 50%;\n",
              "      cursor: pointer;\n",
              "      display: none;\n",
              "      fill: #1967D2;\n",
              "      height: 32px;\n",
              "      padding: 0 0 0 0;\n",
              "      width: 32px;\n",
              "    }\n",
              "\n",
              "    .colab-df-convert:hover {\n",
              "      background-color: #E2EBFA;\n",
              "      box-shadow: 0px 1px 2px rgba(60, 64, 67, 0.3), 0px 1px 3px 1px rgba(60, 64, 67, 0.15);\n",
              "      fill: #174EA6;\n",
              "    }\n",
              "\n",
              "    .colab-df-buttons div {\n",
              "      margin-bottom: 4px;\n",
              "    }\n",
              "\n",
              "    [theme=dark] .colab-df-convert {\n",
              "      background-color: #3B4455;\n",
              "      fill: #D2E3FC;\n",
              "    }\n",
              "\n",
              "    [theme=dark] .colab-df-convert:hover {\n",
              "      background-color: #434B5C;\n",
              "      box-shadow: 0px 1px 3px 1px rgba(0, 0, 0, 0.15);\n",
              "      filter: drop-shadow(0px 1px 2px rgba(0, 0, 0, 0.3));\n",
              "      fill: #FFFFFF;\n",
              "    }\n",
              "  </style>\n",
              "\n",
              "    <script>\n",
              "      const buttonEl =\n",
              "        document.querySelector('#df-9ed78bfd-6a7a-4163-bcfb-60267090da71 button.colab-df-convert');\n",
              "      buttonEl.style.display =\n",
              "        google.colab.kernel.accessAllowed ? 'block' : 'none';\n",
              "\n",
              "      async function convertToInteractive(key) {\n",
              "        const element = document.querySelector('#df-9ed78bfd-6a7a-4163-bcfb-60267090da71');\n",
              "        const dataTable =\n",
              "          await google.colab.kernel.invokeFunction('convertToInteractive',\n",
              "                                                    [key], {});\n",
              "        if (!dataTable) return;\n",
              "\n",
              "        const docLinkHtml = 'Like what you see? Visit the ' +\n",
              "          '<a target=\"_blank\" href=https://colab.research.google.com/notebooks/data_table.ipynb>data table notebook</a>'\n",
              "          + ' to learn more about interactive tables.';\n",
              "        element.innerHTML = '';\n",
              "        dataTable['output_type'] = 'display_data';\n",
              "        await google.colab.output.renderOutput(dataTable, element);\n",
              "        const docLink = document.createElement('div');\n",
              "        docLink.innerHTML = docLinkHtml;\n",
              "        element.appendChild(docLink);\n",
              "      }\n",
              "    </script>\n",
              "  </div>\n",
              "\n",
              "\n",
              "<div id=\"df-8432faf4-f427-4a3c-bb27-51bbe9580457\">\n",
              "  <button class=\"colab-df-quickchart\" onclick=\"quickchart('df-8432faf4-f427-4a3c-bb27-51bbe9580457')\"\n",
              "            title=\"Suggest charts\"\n",
              "            style=\"display:none;\">\n",
              "\n",
              "<svg xmlns=\"http://www.w3.org/2000/svg\" height=\"24px\"viewBox=\"0 0 24 24\"\n",
              "     width=\"24px\">\n",
              "    <g>\n",
              "        <path d=\"M19 3H5c-1.1 0-2 .9-2 2v14c0 1.1.9 2 2 2h14c1.1 0 2-.9 2-2V5c0-1.1-.9-2-2-2zM9 17H7v-7h2v7zm4 0h-2V7h2v10zm4 0h-2v-4h2v4z\"/>\n",
              "    </g>\n",
              "</svg>\n",
              "  </button>\n",
              "\n",
              "<style>\n",
              "  .colab-df-quickchart {\n",
              "      --bg-color: #E8F0FE;\n",
              "      --fill-color: #1967D2;\n",
              "      --hover-bg-color: #E2EBFA;\n",
              "      --hover-fill-color: #174EA6;\n",
              "      --disabled-fill-color: #AAA;\n",
              "      --disabled-bg-color: #DDD;\n",
              "  }\n",
              "\n",
              "  [theme=dark] .colab-df-quickchart {\n",
              "      --bg-color: #3B4455;\n",
              "      --fill-color: #D2E3FC;\n",
              "      --hover-bg-color: #434B5C;\n",
              "      --hover-fill-color: #FFFFFF;\n",
              "      --disabled-bg-color: #3B4455;\n",
              "      --disabled-fill-color: #666;\n",
              "  }\n",
              "\n",
              "  .colab-df-quickchart {\n",
              "    background-color: var(--bg-color);\n",
              "    border: none;\n",
              "    border-radius: 50%;\n",
              "    cursor: pointer;\n",
              "    display: none;\n",
              "    fill: var(--fill-color);\n",
              "    height: 32px;\n",
              "    padding: 0;\n",
              "    width: 32px;\n",
              "  }\n",
              "\n",
              "  .colab-df-quickchart:hover {\n",
              "    background-color: var(--hover-bg-color);\n",
              "    box-shadow: 0 1px 2px rgba(60, 64, 67, 0.3), 0 1px 3px 1px rgba(60, 64, 67, 0.15);\n",
              "    fill: var(--button-hover-fill-color);\n",
              "  }\n",
              "\n",
              "  .colab-df-quickchart-complete:disabled,\n",
              "  .colab-df-quickchart-complete:disabled:hover {\n",
              "    background-color: var(--disabled-bg-color);\n",
              "    fill: var(--disabled-fill-color);\n",
              "    box-shadow: none;\n",
              "  }\n",
              "\n",
              "  .colab-df-spinner {\n",
              "    border: 2px solid var(--fill-color);\n",
              "    border-color: transparent;\n",
              "    border-bottom-color: var(--fill-color);\n",
              "    animation:\n",
              "      spin 1s steps(1) infinite;\n",
              "  }\n",
              "\n",
              "  @keyframes spin {\n",
              "    0% {\n",
              "      border-color: transparent;\n",
              "      border-bottom-color: var(--fill-color);\n",
              "      border-left-color: var(--fill-color);\n",
              "    }\n",
              "    20% {\n",
              "      border-color: transparent;\n",
              "      border-left-color: var(--fill-color);\n",
              "      border-top-color: var(--fill-color);\n",
              "    }\n",
              "    30% {\n",
              "      border-color: transparent;\n",
              "      border-left-color: var(--fill-color);\n",
              "      border-top-color: var(--fill-color);\n",
              "      border-right-color: var(--fill-color);\n",
              "    }\n",
              "    40% {\n",
              "      border-color: transparent;\n",
              "      border-right-color: var(--fill-color);\n",
              "      border-top-color: var(--fill-color);\n",
              "    }\n",
              "    60% {\n",
              "      border-color: transparent;\n",
              "      border-right-color: var(--fill-color);\n",
              "    }\n",
              "    80% {\n",
              "      border-color: transparent;\n",
              "      border-right-color: var(--fill-color);\n",
              "      border-bottom-color: var(--fill-color);\n",
              "    }\n",
              "    90% {\n",
              "      border-color: transparent;\n",
              "      border-bottom-color: var(--fill-color);\n",
              "    }\n",
              "  }\n",
              "</style>\n",
              "\n",
              "  <script>\n",
              "    async function quickchart(key) {\n",
              "      const quickchartButtonEl =\n",
              "        document.querySelector('#' + key + ' button');\n",
              "      quickchartButtonEl.disabled = true;  // To prevent multiple clicks.\n",
              "      quickchartButtonEl.classList.add('colab-df-spinner');\n",
              "      try {\n",
              "        const charts = await google.colab.kernel.invokeFunction(\n",
              "            'suggestCharts', [key], {});\n",
              "      } catch (error) {\n",
              "        console.error('Error during call to suggestCharts:', error);\n",
              "      }\n",
              "      quickchartButtonEl.classList.remove('colab-df-spinner');\n",
              "      quickchartButtonEl.classList.add('colab-df-quickchart-complete');\n",
              "    }\n",
              "    (() => {\n",
              "      let quickchartButtonEl =\n",
              "        document.querySelector('#df-8432faf4-f427-4a3c-bb27-51bbe9580457 button');\n",
              "      quickchartButtonEl.style.display =\n",
              "        google.colab.kernel.accessAllowed ? 'block' : 'none';\n",
              "    })();\n",
              "  </script>\n",
              "</div>\n",
              "\n",
              "  <div id=\"id_b7b1e7eb-34d1-4326-82de-0f6f0d8a01ef\">\n",
              "    <style>\n",
              "      .colab-df-generate {\n",
              "        background-color: #E8F0FE;\n",
              "        border: none;\n",
              "        border-radius: 50%;\n",
              "        cursor: pointer;\n",
              "        display: none;\n",
              "        fill: #1967D2;\n",
              "        height: 32px;\n",
              "        padding: 0 0 0 0;\n",
              "        width: 32px;\n",
              "      }\n",
              "\n",
              "      .colab-df-generate:hover {\n",
              "        background-color: #E2EBFA;\n",
              "        box-shadow: 0px 1px 2px rgba(60, 64, 67, 0.3), 0px 1px 3px 1px rgba(60, 64, 67, 0.15);\n",
              "        fill: #174EA6;\n",
              "      }\n",
              "\n",
              "      [theme=dark] .colab-df-generate {\n",
              "        background-color: #3B4455;\n",
              "        fill: #D2E3FC;\n",
              "      }\n",
              "\n",
              "      [theme=dark] .colab-df-generate:hover {\n",
              "        background-color: #434B5C;\n",
              "        box-shadow: 0px 1px 3px 1px rgba(0, 0, 0, 0.15);\n",
              "        filter: drop-shadow(0px 1px 2px rgba(0, 0, 0, 0.3));\n",
              "        fill: #FFFFFF;\n",
              "      }\n",
              "    </style>\n",
              "    <button class=\"colab-df-generate\" onclick=\"generateWithVariable('data')\"\n",
              "            title=\"Generate code using this dataframe.\"\n",
              "            style=\"display:none;\">\n",
              "\n",
              "  <svg xmlns=\"http://www.w3.org/2000/svg\" height=\"24px\"viewBox=\"0 0 24 24\"\n",
              "       width=\"24px\">\n",
              "    <path d=\"M7,19H8.4L18.45,9,17,7.55,7,17.6ZM5,21V16.75L18.45,3.32a2,2,0,0,1,2.83,0l1.4,1.43a1.91,1.91,0,0,1,.58,1.4,1.91,1.91,0,0,1-.58,1.4L9.25,21ZM18.45,9,17,7.55Zm-12,3A5.31,5.31,0,0,0,4.9,8.1,5.31,5.31,0,0,0,1,6.5,5.31,5.31,0,0,0,4.9,4.9,5.31,5.31,0,0,0,6.5,1,5.31,5.31,0,0,0,8.1,4.9,5.31,5.31,0,0,0,12,6.5,5.46,5.46,0,0,0,6.5,12Z\"/>\n",
              "  </svg>\n",
              "    </button>\n",
              "    <script>\n",
              "      (() => {\n",
              "      const buttonEl =\n",
              "        document.querySelector('#id_b7b1e7eb-34d1-4326-82de-0f6f0d8a01ef button.colab-df-generate');\n",
              "      buttonEl.style.display =\n",
              "        google.colab.kernel.accessAllowed ? 'block' : 'none';\n",
              "\n",
              "      buttonEl.onclick = () => {\n",
              "        google.colab.notebook.generateWithVariable('data');\n",
              "      }\n",
              "      })();\n",
              "    </script>\n",
              "  </div>\n",
              "\n",
              "    </div>\n",
              "  </div>\n"
            ],
            "application/vnd.google.colaboratory.intrinsic+json": {
              "type": "dataframe",
              "variable_name": "data",
              "summary": "{\n  \"name\": \"data\",\n  \"rows\": 705,\n  \"fields\": [\n    {\n      \"column\": \"gender  \",\n      \"properties\": {\n        \"dtype\": \"category\",\n        \"num_unique_values\": 139,\n        \"samples\": [\n          \"085\",\n          \"54\",\n          \"22\"\n        ],\n        \"semantic_type\": \"\",\n        \"description\": \"\"\n      }\n    },\n    {\n      \"column\": \"age\",\n      \"properties\": {\n        \"dtype\": \"category\",\n        \"num_unique_values\": 3,\n        \"samples\": [\n          \"county\",\n          \"Shenxhen\",\n          \"Montgomery\"\n        ],\n        \"semantic_type\": \"\",\n        \"description\": \"\"\n      }\n    },\n    {\n      \"column\": \"county\",\n      \"properties\": {\n        \"dtype\": \"category\",\n        \"num_unique_values\": 3,\n        \"samples\": [\n          \"ptb\",\n          \"0\",\n          \"1\"\n        ],\n        \"semantic_type\": \"\",\n        \"description\": \"\"\n      }\n    },\n    {\n      \"column\": \"Result\",\n      \"properties\": {\n        \"dtype\": \"category\",\n        \"num_unique_values\": 126,\n        \"samples\": [\n          \"bilateral PTB, with cavity formation in right upper field\",\n          \"PTB in the left upper field\",\n          \"on Rx for culture proven TB. has been clearing of infiltrates in te rt lung. thre is some re-accomodation of pleural fluid along lateral left chest wall.\"\n        ],\n        \"semantic_type\": \"\",\n        \"description\": \"\"\n      }\n    }\n  ]\n}"
            }
          },
          "metadata": {},
          "execution_count": 6
        }
      ]
    },
    {
      "source": [
        "# @title age vs county\n",
        "\n",
        "from matplotlib import pyplot as plt\n",
        "import seaborn as sns\n",
        "import pandas as pd\n",
        "plt.subplots(figsize=(8, 8))\n",
        "df_2dhist = pd.DataFrame({\n",
        "    x_label: grp['county'].value_counts()\n",
        "    for x_label, grp in data.groupby('age')\n",
        "})\n",
        "sns.heatmap(df_2dhist, cmap='viridis')\n",
        "plt.xlabel('age')\n",
        "_ = plt.ylabel('county')"
      ],
      "cell_type": "code",
      "execution_count": null,
      "outputs": [
        {
          "output_type": "display_data",
          "data": {
            "text/plain": [
              "<Figure size 800x800 with 2 Axes>"
            ],
            "image/png": "[encoded data removed]"
          },
          "metadata": {}
        }
      ],
      "metadata": {
        "cellView": "form",
        "colab": {
          "base_uri": "https://localhost:8080/",
          "height": 696
        },
        "id": "7Tcb8ofu7d1T",
        "outputId": "70e12026-6839-4703-c97a-353e1b797049"
      }
    },
    {
      "source": [
        "# @title county\n",
        "\n",
        "from matplotlib import pyplot as plt\n",
        "import seaborn as sns\n",
        "data.groupby('county').size().plot(kind='barh', color=sns.palettes.mpl_palette('Dark2'))\n",
        "plt.gca().spines[['top', 'right',]].set_visible(False)"
      ],
      "cell_type": "code",
      "execution_count": null,
      "outputs": [
        {
          "output_type": "display_data",
          "data": {
            "text/plain": [
              "<Figure size 640x480 with 1 Axes>"
            ],
            "image/png": "[encoded data removed]"
          },
          "metadata": {}
        }
      ],
      "metadata": {
        "colab": {
          "base_uri": "https://localhost:8080/",
          "height": 430
        },
        "id": "dZF-zRLg7MdL",
        "outputId": "5c328edd-e870-4079-ce42-675b6f710adb"
      }
    },
    {
      "cell_type": "markdown",
      "source": [
        "# Explore Data"
      ],
      "metadata": {
        "id": "iuiE4NPG7kok"
      }
    },
    {
      "cell_type": "code",
      "source": [
        "print (data.shape)\n",
        "\n",
        "print (data.head(5))\n",
        "print (data.tail(5))\n",
        "print(data.describe())\n",
        "\n",
        "print(data.groupby('Result').size())"
      ],
      "metadata": {
        "colab": {
          "base_uri": "https://localhost:8080/"
        },
        "id": "6-Yk6qnu7nez",
        "outputId": "5c3bf020-c8dc-4b80-89a1-38797313618a"
      },
      "execution_count": null,
      "outputs": [
        {
          "output_type": "stream",
          "name": "stdout",
          "text": [
            "(705, 4)\n",
            "            gender         age county                          Result\n",
            "id   gender      age    county    ptb                         remarks\n",
            "1000 male         31  Shenxhen      0                          normal\n",
            "1001 male         64  Shenxhen      0                          normal\n",
            "1002 male         35  Shenxhen      0                          normal\n",
            "1003 male         32  Shenxhen      1  STB,ATB,tuberculosis pleuritis\n",
            "       gender           age county  \\\n",
            "1699 M      047  Montgomery      1   \n",
            "1700 F      030  Montgomery      0   \n",
            "1701 F      044  Montgomery      0   \n",
            "1702 F      030  Montgomery      1   \n",
            "1703 F      045  Montgomery      0   \n",
            "\n",
            "                                                   Result  \n",
            "1699 M  persistent rt pleural peel with some interval ...  \n",
            "1700 F                                             normal  \n",
            "1701 F                                             normal  \n",
            "1702 F  left pleural effusion; best seen on lateral vi...  \n",
            "1703 F                                             normal  \n",
            "       gender         age county  Result\n",
            "count       705       705    705     700\n",
            "unique      139         3      3     126\n",
            "top          28  Shenxhen      0  normal\n",
            "freq         32       566    359     311\n",
            "Result\n",
            ",normal                                                                                                                                                    47\n",
            ",normale                                                                                                                                                    1\n",
            "1.bilateral secondary PTB  with right upper atelectasis;2.right pleural adhesions;3.left compensatory emphysema                                             1\n",
            "1.secondary PTB  in the right upper field; 2.small tuberculoma; 3.right pleural thickening and adhesions                                                    1\n",
            "12x9mm nodule LUL, consistent with large granuloma or some other type of a solitary pulmonary nodule                                                        1\n",
            "                                                                                                                                                           ..\n",
            "small LUL calcified granuloma; pt on rx for culture positive psoas abscess with abdominal lymphadenopathy since 6M                                          1\n",
            "smear positive, active TB LUL apex                                                                                                                          1\n",
            "stable inactive scars in RUL; post treatment for abscillary TB                                                                                              2\n",
            "suspicious active disease                                                                                                                                   1\n",
            "worsening diffuse infiltrate bilaterally with fine nodular appearance; recent PCP treatment; recurrent PCP likely although miliary TB is also observed.     1\n",
            "Length: 126, dtype: int64\n"
          ]
        }
      ]
    },
    {
      "cell_type": "code",
      "source": [],
      "metadata": {
        "id": "TNvscyvi6LQE"
      },
      "execution_count": null,
      "outputs": []
    },
    {
      "cell_type": "markdown",
      "source": [
        "# Visualizations"
      ],
      "metadata": {
        "id": "MBHCftnq72IK"
      }
    },
    {
      "cell_type": "code",
      "source": [
        "data['age'] = pd.to_numeric(data['age'], errors='coerce')\n",
        "\n",
        "# Create the box plot with the converted data.\n",
        "data.plot(kind='box')\n",
        "plt.show()\n"
      ],
      "metadata": {
        "colab": {
          "base_uri": "https://localhost:8080/",
          "height": 430
        },
        "id": "b4k-OibE73ya",
        "outputId": "d20cc6b1-9bd7-494f-d945-765a2431fd6e"
      },
      "execution_count": null,
      "outputs": [
        {
          "output_type": "display_data",
          "data": {
            "text/plain": [
              "<Figure size 640x480 with 1 Axes>"
            ],
            "image/png": "[encoded data removed]"
          },
          "metadata": {}
        }
      ]
    },
    {
      "cell_type": "markdown",
      "source": [
        "# Missing Values"
      ],
      "metadata": {
        "id": "XP8IJYwt-M0U"
      }
    },
    {
      "cell_type": "code",
      "source": [
        "data.isnull().sum()"
      ],
      "metadata": {
        "colab": {
          "base_uri": "https://localhost:8080/",
          "height": 209
        },
        "id": "N52yODEx-PhY",
        "outputId": "1fcf8dc3-81db-4ad7-fdda-e274c57a4840"
      },
      "execution_count": null,
      "outputs": [
        {
          "output_type": "execute_result",
          "data": {
            "text/plain": [
              "gender        0\n",
              "age         705\n",
              "county        1\n",
              "Result        5\n",
              "dtype: int64"
            ],
            "text/html": [
              "<div>\n",
              "<style scoped>\n",
              "    .dataframe tbody tr th:only-of-type {\n",
              "        vertical-align: middle;\n",
              "    }\n",
              "\n",
              "    .dataframe tbody tr th {\n",
              "        vertical-align: top;\n",
              "    }\n",
              "\n",
              "    .dataframe thead th {\n",
              "        text-align: right;\n",
              "    }\n",
              "</style>\n",
              "<table border=\"1\" class=\"dataframe\">\n",
              "  <thead>\n",
              "    <tr style=\"text-align: right;\">\n",
              "      <th></th>\n",
              "      <th>0</th>\n",
              "    </tr>\n",
              "  </thead>\n",
              "  <tbody>\n",
              "    <tr>\n",
              "      <th>gender</th>\n",
              "      <td>0</td>\n",
              "    </tr>\n",
              "    <tr>\n",
              "      <th>age</th>\n",
              "      <td>705</td>\n",
              "    </tr>\n",
              "    <tr>\n",
              "      <th>county</th>\n",
              "      <td>1</td>\n",
              "    </tr>\n",
              "    <tr>\n",
              "      <th>Result</th>\n",
              "      <td>5</td>\n",
              "    </tr>\n",
              "  </tbody>\n",
              "</table>\n",
              "</div><br><label><b>dtype:</b> int64</label>"
            ]
          },
          "metadata": {},
          "execution_count": 39
        }
      ]
    },
    {
      "cell_type": "markdown",
      "source": [
        "# Reading file with missing data"
      ],
      "metadata": {
        "id": "Kp-lTy_d-XPt"
      }
    },
    {
      "cell_type": "code",
      "source": [
        "data_missing=read_csv('MetaData_miss.csv')\n",
        "print (data_missing)\n",
        "data_missing.shape\n",
        "data_missing.isnull().head(100)\n",
        "\n",
        "print (data_missing.loc[data_missing['age'].isnull()==True])\n"
      ],
      "metadata": {
        "colab": {
          "base_uri": "https://localhost:8080/"
        },
        "id": "YBgc7rKs-ZW6",
        "outputId": "878f738c-4334-4c9e-e0e0-fbd66352c54c"
      },
      "execution_count": null,
      "outputs": [
        {
          "output_type": "stream",
          "name": "stdout",
          "text": [
            "       id gender   age      county  ptb  \\\n",
            "0    1000   male  Null    Shenxhen    0   \n",
            "1    1001   male    64    Shenxhen    0   \n",
            "2    1002   male    35    Shenxhen    0   \n",
            "3    1003   male    32    Shenxhen    1   \n",
            "4    1004   male     2    Shenxhen    1   \n",
            "..    ...    ...   ...         ...  ...   \n",
            "699  1699      M    47  Montgomery    1   \n",
            "700  1700      F    30  Montgomery    0   \n",
            "701  1701      F    44  Montgomery    0   \n",
            "702  1702      F    30  Montgomery    1   \n",
            "703  1703      F    45  Montgomery    0   \n",
            "\n",
            "                                               remarks  \n",
            "0                                               normal  \n",
            "1                                               normal  \n",
            "2                                               normal  \n",
            "3                       STB,ATB,tuberculosis pleuritis  \n",
            "4          secondary PTB  in the bilateral upper field  \n",
            "..                                                 ...  \n",
            "699  persistent rt pleural peel with some interval ...  \n",
            "700                                             normal  \n",
            "701                                             normal  \n",
            "702  left pleural effusion; best seen on lateral vi...  \n",
            "703                                             normal  \n",
            "\n",
            "[704 rows x 6 columns]\n",
            "Empty DataFrame\n",
            "Columns: [id, gender, age, county, ptb, remarks]\n",
            "Index: []\n"
          ]
        }
      ]
    },
    {
      "cell_type": "markdown",
      "source": [
        "# Partitioning the Data"
      ],
      "metadata": {
        "id": "l4u_aJWrAW6k"
      }
    },
    {
      "cell_type": "code",
      "source": [
        "array = data.values\n",
        "X = array[:,1:3]\n",
        "y = array[:,3]\n",
        "\n",
        "print (X)\n",
        "print (y)\n",
        "\n",
        "\n",
        "X_train, X_validation, Y_train, Y_validation = train_test_split(X, y, test_size=0.20, random_state=1)"
      ],
      "metadata": {
        "colab": {
          "base_uri": "https://localhost:8080/"
        },
        "id": "QWRAdxg7ApH5",
        "outputId": "3cb41329-9cf9-4434-98b4-8eca6c8e4713"
      },
      "execution_count": null,
      "outputs": [
        {
          "output_type": "stream",
          "name": "stdout",
          "text": [
            "[['age' 'county']\n",
            " ['31' 'Shenxhen']\n",
            " ['64' 'Shenxhen']\n",
            " ...\n",
            " ['044' 'Montgomery']\n",
            " ['030' 'Montgomery']\n",
            " ['045' 'Montgomery']]\n",
            "['ptb' '0' '0' '0' '1' '1' '0' '1' '0' '1' '1' '1' '0' '0' '1' '0' '0' '1'\n",
            " '1' '1' '0' '1' '1' '0' '1' '0' '0' '1' '1' '0' '1' '0' '1' '0' '1' '1'\n",
            " '1' '1' '1' '1' '0' '0' '0' '0' '0' '1' '0' '1' '1' '0' '1' '0' '0' '0'\n",
            " '1' '1' '1' '1' '1' '1' '1' '1' '0' '0' '0' '1' '0' '0' '0' '0' '0' '0'\n",
            " '1' '0' '1' '1' '1' '0' '0' '0' '0' '1' '0' '1' '1' '0' '1' '0' '0' '1'\n",
            " '1' '1' '1' '1' '1' '1' '0' '0' '0' '0' '1' '0' '1' '1' '0' '1' '0' '0'\n",
            " '0' '1' '0' '0' '0' '0' '0' '1' '1' '0' '0' '1' '0' '0' '0' '1' '1' '0'\n",
            " '0' '0' '1' '1' '1' '1' '1' '0' '1' '0' '0' '0' '0' '0' '1' '1' '1' '0'\n",
            " '1' '0' '0' '1' '0' '0' '0' '1' '0' '0' '1' '1' '1' '0' '1' '1' '1' '0'\n",
            " '0' '0' '0' '0' '0' '1' '1' '1' '1' '1' '0' '0' '1' '0' '1' '1' '0' '1'\n",
            " '1' '0' '0' '0' '1' '1' '1' '1' '0' '0' '1' '0' '1' '1' '0' '0' '1' '1'\n",
            " '0' '1' '1' '0' '1' '1' '1' '1' '0' '1' '1' '1' '1' '0' '1' '1' '0' '1'\n",
            " '0' '0' '1' '1' '0' '0' '1' '1' '0' '1' '0' '0' '1' '1' '0' '0' '1' '1'\n",
            " '0' '1' '0' '1' '1' '1' '0' '0' '0' '0' '1' '0' '0' '1' '0' '1' '1' '0'\n",
            " '1' '0' '0' '1' '1' '0' '0' '1' '0' '1' '0' '0' '0' '0' '0' '1' '1' '0'\n",
            " '1' '0' '1' '1' '0' '1' '0' '1' '0' '0' '1' '1' '1' '1' '0' '1' '1' '0'\n",
            " '1' '0' '0' '0' '0' '1' '0' '0' '0' '1' '0' '0' '0' '0' '0' '1' '0' '1'\n",
            " '1' '1' '0' '1' '0' '1' '0' '1' '0' '1' '1' '0' '0' '0' '0' '1' '0' '0'\n",
            " '0' '0' '1' '0' '1' '0' '1' '0' '1' '0' '0' '0' '0' '1' '0' '0' '0' '0'\n",
            " '0' '1' '0' '0' '1' '1' '0' '1' '1' '0' '0' '0' '0' '1' '0' '1' '1' '0'\n",
            " '1' '0' '0' '0' '1' '0' '1' '1' '1' '0' '1' '0' '0' '0' '0' '1' '1' '1'\n",
            " '1' '0' '1' '0' '1' '1' '1' '1' '0' '0' '0' '0' '0' '0' '0' '1' '1' '1'\n",
            " '1' '0' '0' '0' '0' '0' '0' '1' '1' '0' '1' '1' '0' '1' '1' '1' '0' '0'\n",
            " '1' '1' '1' '1' '1' '0' '1' '0' '1' '1' '0' '0' '0' '0' '1' '0' '0' '0'\n",
            " '0' '0' '0' '0' '1' '1' '1' '0' '0' '0' '1' '0' '1' '1' '0' '1' '1' '1'\n",
            " '1' '0' '0' '0' '1' '0' '1' '0' '1' '1' '1' '0' '0' '1' '1' '0' '1' '1'\n",
            " '0' '0' '1' '1' '1' '1' '1' '0' '1' '0' '0' '1' '1' '1' '1' '0' '1' '1'\n",
            " '1' '0' '0' '1' '0' '0' '1' '0' '1' '1' '1' '0' '1' '1' '0' '1' '0' '1'\n",
            " '1' '1' '1' '0' '0' '0' '1' '1' '1' '1' '1' '1' '0' '1' '1' '0' '1' '1'\n",
            " '1' '1' '0' '1' '1' '0' '0' '1' '1' '1' '1' '0' '1' '1' '1' '0' '0' '1'\n",
            " '1' '0' '1' '1' '0' '0' '0' '1' '1' '1' '0' '1' '1' '1' '0' '0' '1' '0'\n",
            " '0' '0' '1' '0' '1' '1' '1' '0' '0' '1' '1' '0' '1' '1' '1' '1' '0' '0'\n",
            " '0' '0' '0' '0' '0' '0' '0' '1' '0' '0' '0' '0' '1' '0' '0' '1' '0' '1'\n",
            " '0' '0' '1' '1' '1' '0' '1' '1' '1' '0' '1' '0' '0' '0' '1' '0' '0' '0'\n",
            " '1' '0' '1' '1' '1' '0' '1' '0' '1' '0' '1' '0' '0' '0' '0' '1' '0' '0'\n",
            " '1' '1' '0' '1' '0' '1' '0' '0' '0' '1' '0' '1' '1' '0' '0' '0' '0' '1'\n",
            " '0' '1' '0' '0' '1' '1' '0' '0' '1' '0' '0' '0' '0' '0' '0' '0' '0' '0'\n",
            " '1' '1' '0' '1' '1' '0' '1' '0' '0' '1' '0' '1' '0' '0' '1' '1' '0' '1'\n",
            " '0' '1' '0' '1' '0' '0' '1' '1' '1' '0' '0' '1' '1' '0' '0' '1' '1' '0'\n",
            " '0' '1' '0']\n"
          ]
        }
      ]
    },
    {
      "cell_type": "markdown",
      "source": [
        "# Model Creation and Training"
      ],
      "metadata": {
        "id": "4n438BtTGhdv"
      }
    },
    {
      "cell_type": "code",
      "source": [
        "# Load the data (make sure 'MetaData.csv' is in the correct path)\n",
        "names = ['gender', 'age', 'county', 'ptb', 'remarks']\n",
        "data=read_csv('MetaData.csv',names=names)\n",
        "\n",
        "# Create a ColumnTransformer to handle categorical features\n",
        "features = ['gender', 'age', 'county', 'ptb' , 'remarks']  # Use actual column names from your data\n",
        " #numerical_features = [] # If you have numerical features, list them here\n",
        "\n",
        "preprocessor = ColumnTransformer(\n",
        "    transformers=[\n",
        "        ('cat', OneHotEncoder(sparse_output=False, handle_unknown='ignore'), features),\n",
        "        # ('num', 'passthrough', numerical_features) # Uncomment and modify if needed\n",
        "    ])\n",
        "\n",
        "# Apply the preprocessor to your data\n",
        "X = data[features]  # Selecting the features\n",
        "# Assuming 'Result' is the target variable, consistent with the partitioning step\n",
        "y = data['age']\n",
        "X = preprocessor.fit_transform(X)\n",
        "\n",
        "# Split data after preprocessing\n",
        "X_train, X_validation, Y_train, Y_validation = train_test_split(X, y, test_size=0.20, random_state=1)\n",
        "\n",
        "model = LogisticRegression(solver='liblinear', multi_class='ovr')\n",
        "kfold = StratifiedKFold(n_splits=10, random_state=1, shuffle=True)\n",
        "cv_results = cross_val_score(model, X_train, Y_train, cv=kfold, scoring='accuracy')\n",
        "cv_results\n",
        "\n",
        "model.fit(X_train, Y_train)\n",
        "predictions = model.predict(X_validation)\n",
        "\n",
        "predictions"
      ],
      "metadata": {
        "colab": {
          "base_uri": "https://localhost:8080/"
        },
        "id": "SdXQYmU_Gikb",
        "outputId": "bab1a980-0a2c-4e68-f091-93bbbd33beca",
        "collapsed": true
      },
      "execution_count": null,
      "outputs": [
        {
          "output_type": "stream",
          "name": "stderr",
          "text": [
            "/usr/local/lib/python3.10/dist-packages/sklearn/model_selection/_split.py:805: UserWarning: The least populated class in y has only 1 members, which is less than n_splits=10.\n",
            "  warnings.warn(\n",
            "/usr/local/lib/python3.10/dist-packages/sklearn/linear_model/_logistic.py:1256: FutureWarning: 'multi_class' was deprecated in version 1.5 and will be removed in 1.7. Use OneVsRestClassifier(LogisticRegression(..)) instead. Leave it to its default value to avoid this warning.\n",
            "  warnings.warn(\n",
            "/usr/local/lib/python3.10/dist-packages/sklearn/linear_model/_logistic.py:1256: FutureWarning: 'multi_class' was deprecated in version 1.5 and will be removed in 1.7. Use OneVsRestClassifier(LogisticRegression(..)) instead. Leave it to its default value to avoid this warning.\n",
            "  warnings.warn(\n",
            "/usr/local/lib/python3.10/dist-packages/sklearn/linear_model/_logistic.py:1256: FutureWarning: 'multi_class' was deprecated in version 1.5 and will be removed in 1.7. Use OneVsRestClassifier(LogisticRegression(..)) instead. Leave it to its default value to avoid this warning.\n",
            "  warnings.warn(\n",
            "/usr/local/lib/python3.10/dist-packages/sklearn/linear_model/_logistic.py:1256: FutureWarning: 'multi_class' was deprecated in version 1.5 and will be removed in 1.7. Use OneVsRestClassifier(LogisticRegression(..)) instead. Leave it to its default value to avoid this warning.\n",
            "  warnings.warn(\n",
            "/usr/local/lib/python3.10/dist-packages/sklearn/linear_model/_logistic.py:1256: FutureWarning: 'multi_class' was deprecated in version 1.5 and will be removed in 1.7. Use OneVsRestClassifier(LogisticRegression(..)) instead. Leave it to its default value to avoid this warning.\n",
            "  warnings.warn(\n",
            "/usr/local/lib/python3.10/dist-packages/sklearn/linear_model/_logistic.py:1256: FutureWarning: 'multi_class' was deprecated in version 1.5 and will be removed in 1.7. Use OneVsRestClassifier(LogisticRegression(..)) instead. Leave it to its default value to avoid this warning.\n",
            "  warnings.warn(\n",
            "/usr/local/lib/python3.10/dist-packages/sklearn/linear_model/_logistic.py:1256: FutureWarning: 'multi_class' was deprecated in version 1.5 and will be removed in 1.7. Use OneVsRestClassifier(LogisticRegression(..)) instead. Leave it to its default value to avoid this warning.\n",
            "  warnings.warn(\n",
            "/usr/local/lib/python3.10/dist-packages/sklearn/linear_model/_logistic.py:1256: FutureWarning: 'multi_class' was deprecated in version 1.5 and will be removed in 1.7. Use OneVsRestClassifier(LogisticRegression(..)) instead. Leave it to its default value to avoid this warning.\n",
            "  warnings.warn(\n",
            "/usr/local/lib/python3.10/dist-packages/sklearn/linear_model/_logistic.py:1256: FutureWarning: 'multi_class' was deprecated in version 1.5 and will be removed in 1.7. Use OneVsRestClassifier(LogisticRegression(..)) instead. Leave it to its default value to avoid this warning.\n",
            "  warnings.warn(\n",
            "/usr/local/lib/python3.10/dist-packages/sklearn/linear_model/_logistic.py:1256: FutureWarning: 'multi_class' was deprecated in version 1.5 and will be removed in 1.7. Use OneVsRestClassifier(LogisticRegression(..)) instead. Leave it to its default value to avoid this warning.\n",
            "  warnings.warn(\n",
            "/usr/local/lib/python3.10/dist-packages/sklearn/linear_model/_logistic.py:1256: FutureWarning: 'multi_class' was deprecated in version 1.5 and will be removed in 1.7. Use OneVsRestClassifier(LogisticRegression(..)) instead. Leave it to its default value to avoid this warning.\n",
            "  warnings.warn(\n"
          ]
        },
        {
          "output_type": "execute_result",
          "data": {
            "text/plain": [
              "array(['45', '38', '64', '38', '36', '30', '25', '45', '39', '27', '43',\n",
              "       '42', '35', '23', '056', '37', '044', '31', '29', '28', '31',\n",
              "       '020', '35', '28', '53', '31', '28', '45', '33', '29', '30', '26',\n",
              "       '056', '22', '34', '2', '19', '26', '028', '25', '43', '53', '36',\n",
              "       '016', '30', '32', '28', '63', '25', '27', '40', '38', '39', '032',\n",
              "       '054', '53', '044', '43', '053', '24', '49', '52', '24', '056',\n",
              "       '31', '29', '34', '53', '054', '60', '23', '39', '29', '044', '28',\n",
              "       '28', '19', '43', '22', '049', '21', '32', '40', '056', '053',\n",
              "       '40', '032', '089', '27', '39', '32', '056', '31', '34', '053',\n",
              "       '26', '38', '049', '031', '50', '26', '31', '78', '28', '27', '23',\n",
              "       '053', '26', '37', '043', '55', '25', '056', '38', '20', '25',\n",
              "       '47', '25', '41', '64', '42', '38', '78', '27', '36', '035', '22',\n",
              "       '049', '24', '30', '32', '43', '011', '089', '049', '053', '23',\n",
              "       '36', '33', 'male35', '53'], dtype=object)"
            ]
          },
          "metadata": {},
          "execution_count": 18
        }
      ]
    },
    {
      "cell_type": "markdown",
      "source": [
        "# Predictioc"
      ],
      "metadata": {
        "id": "pHoHhuWscjGu"
      }
    },
    {
      "cell_type": "code",
      "source": [
        "print (Y_validation)\n",
        "print (predictions)\n",
        "print(accuracy_score(Y_validation, predictions))\n",
        "print(confusion_matrix(Y_validation, predictions))\n",
        "print(classification_report(Y_validation, predictions))"
      ],
      "metadata": {
        "id": "5eukZUbNcllF",
        "outputId": "c7b2261f-3537-47a3-ccf4-0dd97c192940",
        "colab": {
          "base_uri": "https://localhost:8080/"
        },
        "collapsed": true
      },
      "execution_count": null,
      "outputs": [
        {
          "output_type": "stream",
          "name": "stdout",
          "text": [
            "['1' '1' '0' '0' '1' '0' '1' '0' '1' '0' '1' '1' '0' '0' '0' '1' '0' '0'\n",
            " '1' '1' '1' '0' '1' '1' '1' '1' '0' '0' '0' '1' '0' '1' '0' '0' '1' '0'\n",
            " '0' '0' '0' '1' '0' '0' '0' '0' '0' '1' '0' '1' '1' '1' '0' '0' '1' '0'\n",
            " '1' '0' '0' '0' '0' '1' '1' '0' '0' '0' '1' '1' '0' '0' '1' '0' '0' '1'\n",
            " '0' '0' '0' 'ptb' '0' '1' '1' '1' '0' '0' '1' '0' '0' '1' '1' '1' '0' '1'\n",
            " '1' '0' '0' '0' '0' '0' '0' '1' '1' '0' '1' '1' '1' '0' '0' '1' '0' '1'\n",
            " '0' '0' '1' '0' '0' '1' '1' '0' '0' '0' '0' '0' '0' '1' '1' '1' '1' '0'\n",
            " '0' '1' '0' '0' '1' '1' '0' '1' '1' '0' '0' '1' '0' '1' '0']\n",
            "['45' '38' '64' '38' '36' '30' '25' '45' '39' '27' '43' '42' '35' '23'\n",
            " '056' '37' '044' '31' '29' '28' '31' '020' '35' '28' '53' '31' '28' '45'\n",
            " '33' '29' '30' '26' '056' '22' '34' '2' '19' '26' '028' '25' '43' '53'\n",
            " '36' '016' '30' '32' '28' '63' '25' '27' '40' '38' '39' '032' '054' '53'\n",
            " '044' '43' '053' '24' '49' '52' '24' '056' '31' '29' '34' '53' '054' '60'\n",
            " '23' '39' '29' '044' '28' '28' '19' '43' '22' '049' '21' '32' '40' '056'\n",
            " '053' '40' '032' '089' '27' '39' '32' '056' '31' '34' '053' '26' '38'\n",
            " '049' '031' '50' '26' '31' '78' '28' '27' '23' '053' '26' '37' '043' '55'\n",
            " '25' '056' '38' '20' '25' '47' '25' '41' '64' '42' '38' '78' '27' '36'\n",
            " '035' '22' '049' '24' '30' '32' '43' '011' '089' '049' '053' '23' '36'\n",
            " '33' 'male35' '53']\n",
            "0.0\n",
            "[[0 1 1 ... 0 0 0]\n",
            " [0 0 0 ... 0 0 0]\n",
            " [0 0 0 ... 0 0 0]\n",
            " ...\n",
            " [0 0 0 ... 0 0 0]\n",
            " [0 0 0 ... 0 0 0]\n",
            " [0 0 0 ... 0 0 0]]\n",
            "              precision    recall  f1-score   support\n",
            "\n",
            "           0       0.00      0.00      0.00      79.0\n",
            "         011       0.00      0.00      0.00       0.0\n",
            "         016       0.00      0.00      0.00       0.0\n",
            "         020       0.00      0.00      0.00       0.0\n",
            "         028       0.00      0.00      0.00       0.0\n",
            "         031       0.00      0.00      0.00       0.0\n",
            "         032       0.00      0.00      0.00       0.0\n",
            "         035       0.00      0.00      0.00       0.0\n",
            "         043       0.00      0.00      0.00       0.0\n",
            "         044       0.00      0.00      0.00       0.0\n",
            "         049       0.00      0.00      0.00       0.0\n",
            "         053       0.00      0.00      0.00       0.0\n",
            "         054       0.00      0.00      0.00       0.0\n",
            "         056       0.00      0.00      0.00       0.0\n",
            "         089       0.00      0.00      0.00       0.0\n",
            "           1       0.00      0.00      0.00      61.0\n",
            "          19       0.00      0.00      0.00       0.0\n",
            "           2       0.00      0.00      0.00       0.0\n",
            "          20       0.00      0.00      0.00       0.0\n",
            "          21       0.00      0.00      0.00       0.0\n",
            "          22       0.00      0.00      0.00       0.0\n",
            "          23       0.00      0.00      0.00       0.0\n",
            "          24       0.00      0.00      0.00       0.0\n",
            "          25       0.00      0.00      0.00       0.0\n",
            "          26       0.00      0.00      0.00       0.0\n",
            "          27       0.00      0.00      0.00       0.0\n",
            "          28       0.00      0.00      0.00       0.0\n",
            "          29       0.00      0.00      0.00       0.0\n",
            "          30       0.00      0.00      0.00       0.0\n",
            "          31       0.00      0.00      0.00       0.0\n",
            "          32       0.00      0.00      0.00       0.0\n",
            "          33       0.00      0.00      0.00       0.0\n",
            "          34       0.00      0.00      0.00       0.0\n",
            "          35       0.00      0.00      0.00       0.0\n",
            "          36       0.00      0.00      0.00       0.0\n",
            "          37       0.00      0.00      0.00       0.0\n",
            "          38       0.00      0.00      0.00       0.0\n",
            "          39       0.00      0.00      0.00       0.0\n",
            "          40       0.00      0.00      0.00       0.0\n",
            "          41       0.00      0.00      0.00       0.0\n",
            "          42       0.00      0.00      0.00       0.0\n",
            "          43       0.00      0.00      0.00       0.0\n",
            "          45       0.00      0.00      0.00       0.0\n",
            "          47       0.00      0.00      0.00       0.0\n",
            "          49       0.00      0.00      0.00       0.0\n",
            "          50       0.00      0.00      0.00       0.0\n",
            "          52       0.00      0.00      0.00       0.0\n",
            "          53       0.00      0.00      0.00       0.0\n",
            "          55       0.00      0.00      0.00       0.0\n",
            "          60       0.00      0.00      0.00       0.0\n",
            "          63       0.00      0.00      0.00       0.0\n",
            "          64       0.00      0.00      0.00       0.0\n",
            "          78       0.00      0.00      0.00       0.0\n",
            "      male35       0.00      0.00      0.00       0.0\n",
            "         ptb       0.00      0.00      0.00       1.0\n",
            "\n",
            "    accuracy                           0.00     141.0\n",
            "   macro avg       0.00      0.00      0.00     141.0\n",
            "weighted avg       0.00      0.00      0.00     141.0\n",
            "\n"
          ]
        },
        {
          "output_type": "stream",
          "name": "stderr",
          "text": [
            "/usr/local/lib/python3.10/dist-packages/sklearn/metrics/_classification.py:1565: UndefinedMetricWarning: Precision is ill-defined and being set to 0.0 in labels with no predicted samples. Use `zero_division` parameter to control this behavior.\n",
            "  _warn_prf(average, modifier, f\"{metric.capitalize()} is\", len(result))\n",
            "/usr/local/lib/python3.10/dist-packages/sklearn/metrics/_classification.py:1565: UndefinedMetricWarning: Recall is ill-defined and being set to 0.0 in labels with no true samples. Use `zero_division` parameter to control this behavior.\n",
            "  _warn_prf(average, modifier, f\"{metric.capitalize()} is\", len(result))\n",
            "/usr/local/lib/python3.10/dist-packages/sklearn/metrics/_classification.py:1565: UndefinedMetricWarning: Precision is ill-defined and being set to 0.0 in labels with no predicted samples. Use `zero_division` parameter to control this behavior.\n",
            "  _warn_prf(average, modifier, f\"{metric.capitalize()} is\", len(result))\n",
            "/usr/local/lib/python3.10/dist-packages/sklearn/metrics/_classification.py:1565: UndefinedMetricWarning: Recall is ill-defined and being set to 0.0 in labels with no true samples. Use `zero_division` parameter to control this behavior.\n",
            "  _warn_prf(average, modifier, f\"{metric.capitalize()} is\", len(result))\n",
            "/usr/local/lib/python3.10/dist-packages/sklearn/metrics/_classification.py:1565: UndefinedMetricWarning: Precision is ill-defined and being set to 0.0 in labels with no predicted samples. Use `zero_division` parameter to control this behavior.\n",
            "  _warn_prf(average, modifier, f\"{metric.capitalize()} is\", len(result))\n",
            "/usr/local/lib/python3.10/dist-packages/sklearn/metrics/_classification.py:1565: UndefinedMetricWarning: Recall is ill-defined and being set to 0.0 in labels with no true samples. Use `zero_division` parameter to control this behavior.\n",
            "  _warn_prf(average, modifier, f\"{metric.capitalize()} is\", len(result))\n"
          ]
        }
      ]
    },
    {
      "cell_type": "markdown",
      "source": [
        "# Different Models & Make Predictions"
      ],
      "metadata": {
        "id": "w6UdiXFV6Jut"
      }
    },
    {
      "cell_type": "code",
      "source": [
        "# Spot Check Algorithms\n",
        "from pandas import read_csv\n",
        "from matplotlib import pyplot as plt\n",
        "from sklearn.model_selection import train_test_split\n",
        "from sklearn.model_selection import cross_val_score\n",
        "from sklearn.model_selection import StratifiedKFold\n",
        "from sklearn.linear_model import LogisticRegression\n",
        "from sklearn.tree import DecisionTreeClassifier\n",
        "from sklearn.neighbors import KNeighborsClassifier\n",
        "from sklearn.discriminant_analysis import LinearDiscriminantAnalysis\n",
        "from sklearn.naive_bayes import GaussianNB\n",
        "from sklearn.svm import SVC\n",
        "from pandas import get_dummies\n",
        "from sklearn.preprocessing import LabelEncoder\n",
        "# Load dataset\n",
        "from google.colab import drive\n",
        "drive.mount('/content/drive')\n",
        "%cd '/content/drive/MyDrive/Colab Notebooks'\n",
        "%ls\n",
        "#reading file from drive\n",
        "import pandas as pd\n",
        "names = ['gender', 'age', 'county', 'ptb', 'remarks']\n",
        "data=read_csv('MetaData.csv',names=names)\n",
        "\n",
        "# Encode non-numeric features\n",
        "label_encoder = LabelEncoder()\n",
        "\n",
        "data['gender'] = label_encoder.fit_transform(data['gender'])\n",
        "data['county'] = label_encoder.fit_transform(data['county'])\n",
        "\n",
        "# Prepare features and labels\n",
        "X = data[['gender', 'age', 'county', 'ptb', 'remarks']].values\n",
        "\n",
        "# Convert to numeric\n",
        "y = label_encoder.fit_transform(y)\n",
        "# Option 1: Remove rows with missing values\n",
        "data.dropna(inplace=True)\n",
        "\n",
        "# Split-out validation dataset\n",
        "array = data.values\n",
        "X = array[:,0:3]\n",
        "X[:, 1] = pd.to_numeric(X[:, 1], errors='coerce')\n",
        "y = array[:,3]\n",
        "\n",
        "# Impute missing values using SimpleImputer\n",
        "# This replaces NaN with the most frequent value for that column\n",
        "from sklearn.impute import SimpleImputer\n",
        "imputer = SimpleImputer(strategy='most_frequent') # You can change the strategy if needed\n",
        "X = imputer.fit_transform(X)\n",
        "\n",
        "X_train, X_validation, Y_train, Y_validation = train_test_split(X, y, test_size=0.20, random_state=1, shuffle=True)\n",
        "# Spot Check Algorithms\n",
        "models = []\n",
        "models.append(('LR', LogisticRegression(solver='liblinear', multi_class='ovr')))\n",
        "models.append(('LDA', LinearDiscriminantAnalysis()))\n",
        "models.append(('KNN', KNeighborsClassifier()))\n",
        "models.append(('CART', DecisionTreeClassifier()))\n",
        "models.append(('NB', GaussianNB()))\n",
        "models.append(('SVM', SVC(gamma='auto')))\n",
        "# evaluate each model in turn\n",
        "results = []\n",
        "names = []\n",
        "for name, model in models:\n",
        "\tkfold = StratifiedKFold(n_splits=10, random_state=1, shuffle=True)\n",
        "\tcv_results = cross_val_score(model, X_train, Y_train, cv=kfold, scoring='accuracy')\n",
        "\tresults.append(cv_results)\n",
        "\tnames.append(name)\n",
        "\tprint('%s: %f (%f)' % (name, cv_results.mean(), cv_results.std()))\n",
        " # Compare Algorithms\n",
        "plt.boxplot(results, labels=names)\n",
        "plt.title('Algorithm Comparison')\n",
        "plt.show()\n"
      ],
      "metadata": {
        "colab": {
          "base_uri": "https://localhost:8080/",
          "height": 1000
        },
        "id": "xeNggG3s6fsx",
        "outputId": "ae1cba88-560f-4b23-8405-05669ef5b6bc"
      },
      "execution_count": null,
      "outputs": [
        {
          "output_type": "stream",
          "name": "stdout",
          "text": [
            "Drive already mounted at /content/drive; to attempt to forcibly remount, call drive.mount(\"/content/drive\", force_remount=True).\n",
            "/content/drive/MyDrive/Colab Notebooks\n",
            " MetaData.csv   MetaData_miss.csv  'x Ray.ipynb'\n"
          ]
        },
        {
          "output_type": "stream",
          "name": "stderr",
          "text": [
            "/usr/local/lib/python3.10/dist-packages/sklearn/linear_model/_logistic.py:1256: FutureWarning: 'multi_class' was deprecated in version 1.5 and will be removed in 1.7. Use OneVsRestClassifier(LogisticRegression(..)) instead. Leave it to its default value to avoid this warning.\n",
            "  warnings.warn(\n",
            "/usr/local/lib/python3.10/dist-packages/sklearn/linear_model/_logistic.py:1256: FutureWarning: 'multi_class' was deprecated in version 1.5 and will be removed in 1.7. Use OneVsRestClassifier(LogisticRegression(..)) instead. Leave it to its default value to avoid this warning.\n",
            "  warnings.warn(\n",
            "/usr/local/lib/python3.10/dist-packages/sklearn/linear_model/_logistic.py:1256: FutureWarning: 'multi_class' was deprecated in version 1.5 and will be removed in 1.7. Use OneVsRestClassifier(LogisticRegression(..)) instead. Leave it to its default value to avoid this warning.\n",
            "  warnings.warn(\n",
            "/usr/local/lib/python3.10/dist-packages/sklearn/linear_model/_logistic.py:1256: FutureWarning: 'multi_class' was deprecated in version 1.5 and will be removed in 1.7. Use OneVsRestClassifier(LogisticRegression(..)) instead. Leave it to its default value to avoid this warning.\n",
            "  warnings.warn(\n",
            "/usr/local/lib/python3.10/dist-packages/sklearn/linear_model/_logistic.py:1256: FutureWarning: 'multi_class' was deprecated in version 1.5 and will be removed in 1.7. Use OneVsRestClassifier(LogisticRegression(..)) instead. Leave it to its default value to avoid this warning.\n",
            "  warnings.warn(\n",
            "/usr/local/lib/python3.10/dist-packages/sklearn/linear_model/_logistic.py:1256: FutureWarning: 'multi_class' was deprecated in version 1.5 and will be removed in 1.7. Use OneVsRestClassifier(LogisticRegression(..)) instead. Leave it to its default value to avoid this warning.\n",
            "  warnings.warn(\n",
            "/usr/local/lib/python3.10/dist-packages/sklearn/linear_model/_logistic.py:1256: FutureWarning: 'multi_class' was deprecated in version 1.5 and will be removed in 1.7. Use OneVsRestClassifier(LogisticRegression(..)) instead. Leave it to its default value to avoid this warning.\n",
            "  warnings.warn(\n",
            "/usr/local/lib/python3.10/dist-packages/sklearn/linear_model/_logistic.py:1256: FutureWarning: 'multi_class' was deprecated in version 1.5 and will be removed in 1.7. Use OneVsRestClassifier(LogisticRegression(..)) instead. Leave it to its default value to avoid this warning.\n",
            "  warnings.warn(\n",
            "/usr/local/lib/python3.10/dist-packages/sklearn/linear_model/_logistic.py:1256: FutureWarning: 'multi_class' was deprecated in version 1.5 and will be removed in 1.7. Use OneVsRestClassifier(LogisticRegression(..)) instead. Leave it to its default value to avoid this warning.\n",
            "  warnings.warn(\n",
            "/usr/local/lib/python3.10/dist-packages/sklearn/linear_model/_logistic.py:1256: FutureWarning: 'multi_class' was deprecated in version 1.5 and will be removed in 1.7. Use OneVsRestClassifier(LogisticRegression(..)) instead. Leave it to its default value to avoid this warning.\n",
            "  warnings.warn(\n"
          ]
        },
        {
          "output_type": "stream",
          "name": "stdout",
          "text": [
            "LR: 0.578571 (0.068325)\n",
            "LDA: 0.587500 (0.063109)\n",
            "KNN: 0.551786 (0.062602)\n",
            "CART: 0.560714 (0.053093)\n",
            "NB: 0.550000 (0.061756)\n",
            "SVM: 0.592857 (0.053452)\n"
          ]
        },
        {
          "output_type": "stream",
          "name": "stderr",
          "text": [
            "<ipython-input-46-872f5c50984a>:76: MatplotlibDeprecationWarning: The 'labels' parameter of boxplot() has been renamed 'tick_labels' since Matplotlib 3.9; support for the old name will be dropped in 3.11.\n",
            "  plt.boxplot(results, labels=names)\n"
          ]
        },
        {
          "output_type": "display_data",
          "data": {
            "text/plain": [
              "<Figure size 640x480 with 1 Axes>"
            ],
            "image/png": "[encoded data removed]"
          },
          "metadata": {}
        }
      ]
    },
    {
      "cell_type": "markdown",
      "source": [
        "# Prediction"
      ],
      "metadata": {
        "id": "NwNguXVYiPd9"
      }
    },
    {
      "cell_type": "code",
      "source": [
        "# Make predictions on validation dataset\n",
        "model = SVC(gamma='auto')\n",
        "model.fit(X_train, Y_train)\n",
        "predictions = model.predict(X_validation)"
      ],
      "metadata": {
        "id": "MLzNAvCaiRwV"
      },
      "execution_count": null,
      "outputs": []
    },
    {
      "cell_type": "markdown",
      "source": [
        "# Evaluate Prediction"
      ],
      "metadata": {
        "id": "lLtjbKvzl3CB"
      }
    },
    {
      "cell_type": "code",
      "source": [
        "# Make predictions on validation dataset\n",
        "from sklearn.metrics import accuracy_score, confusion_matrix, classification_report # Importing necessary functions\n",
        "model = SVC(gamma='auto')\n",
        "model.fit(X_train, Y_train)\n",
        "predictions = model.predict(X_validation)\n",
        "\n",
        "# Evaluate predictions\n",
        "print(accuracy_score(Y_validation, predictions))\n",
        "print(confusion_matrix(Y_validation, predictions))\n",
        "print(classification_report(Y_validation, predictions))"
      ],
      "metadata": {
        "colab": {
          "base_uri": "https://localhost:8080/"
        },
        "id": "lxVsCxzel5sd",
        "outputId": "a05c6d93-1253-4020-cb5e-77abf1abbdaa"
      },
      "execution_count": null,
      "outputs": [
        {
          "output_type": "stream",
          "name": "stdout",
          "text": [
            "0.5642857142857143\n",
            "[[52 15  0]\n",
            " [45 27  0]\n",
            " [ 1  0  0]]\n",
            "              precision    recall  f1-score   support\n",
            "\n",
            "           0       0.53      0.78      0.63        67\n",
            "           1       0.64      0.38      0.47        72\n",
            "         ptb       0.00      0.00      0.00         1\n",
            "\n",
            "    accuracy                           0.56       140\n",
            "   macro avg       0.39      0.38      0.37       140\n",
            "weighted avg       0.58      0.56      0.55       140\n",
            "\n"
          ]
        },
        {
          "output_type": "stream",
          "name": "stderr",
          "text": [
            "/usr/local/lib/python3.10/dist-packages/sklearn/metrics/_classification.py:1565: UndefinedMetricWarning: Precision is ill-defined and being set to 0.0 in labels with no predicted samples. Use `zero_division` parameter to control this behavior.\n",
            "  _warn_prf(average, modifier, f\"{metric.capitalize()} is\", len(result))\n",
            "/usr/local/lib/python3.10/dist-packages/sklearn/metrics/_classification.py:1565: UndefinedMetricWarning: Precision is ill-defined and being set to 0.0 in labels with no predicted samples. Use `zero_division` parameter to control this behavior.\n",
            "  _warn_prf(average, modifier, f\"{metric.capitalize()} is\", len(result))\n",
            "/usr/local/lib/python3.10/dist-packages/sklearn/metrics/_classification.py:1565: UndefinedMetricWarning: Precision is ill-defined and being set to 0.0 in labels with no predicted samples. Use `zero_division` parameter to control this behavior.\n",
            "  _warn_prf(average, modifier, f\"{metric.capitalize()} is\", len(result))\n"
          ]
        }
      ]
    }
  ]
}